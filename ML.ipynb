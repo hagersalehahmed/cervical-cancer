{
 "cells": [
  {
   "cell_type": "code",
   "execution_count": 28,
   "id": "d376d201",
   "metadata": {
    "id": "d376d201"
   },
   "outputs": [],
   "source": [
    "# importing libraries\n",
    "import pandas as pd \n",
    "import numpy as np\n",
    "import seaborn as sns\n",
    "%matplotlib inline\n",
    "import matplotlib.pyplot as plt\n",
    "from sklearn import metrics\n",
    "from sklearn.model_selection import cross_val_predict\n",
    "from sklearn.model_selection import cross_val_score\n",
    "from sklearn.metrics import roc_curve\n",
    "from sklearn.metrics import roc_auc_score\n",
    "from sklearn.model_selection import cross_validate\n",
    "from sklearn.metrics import classification_report\n",
    "from sklearn import metrics \n",
    "from sklearn.metrics import make_scorer, accuracy_score, precision_score, recall_score, f1_score\n",
    "from sklearn.model_selection import GridSearchCV, KFold\n",
    "from sklearn.naive_bayes import MultinomialNB\n",
    "from sklearn.naive_bayes import GaussianNB\n",
    "from sklearn.svm import SVC\n",
    "from sklearn.ensemble import RandomForestClassifier\n",
    "from sklearn.tree import DecisionTreeClassifier\n",
    "from sklearn.ensemble import RandomForestClassifier\n",
    "from sklearn.neighbors import KNeighborsClassifier\n",
    "from sklearn.linear_model import LogisticRegression\n",
    "from sklearn.ensemble import StackingClassifier\n",
    "from sklearn.ensemble import AdaBoostClassifier\n",
    "from sklearn.neural_network import MLPClassifier\n",
    "from sklearn.model_selection import StratifiedKFold\n",
    "import xgboost as xgb\n",
    "import joblib"
   ]
  },
  {
   "cell_type": "code",
   "execution_count": 29,
   "id": "9c47a7ba",
   "metadata": {},
   "outputs": [],
   "source": [
    "list=['Biopsy','Smokes',\n",
    "'HC',\n",
    "'IUD',\n",
    "'STDs',\n",
    "'Dx:CIN',\n",
    "'Dx',\n",
    "'Hinselmann',\n",
    "'Schiller',\n",
    "'Citology',\n",
    "'Age',\n",
    "'NSP',\n",
    "'FSI',\n",
    "'NPRE',\n",
    "'SY',\n",
    "'SmokesPY',\n",
    "]"
   ]
  },
  {
   "cell_type": "code",
   "execution_count": 30,
   "id": "6e78e180",
   "metadata": {
    "colab": {
     "base_uri": "https://localhost:8080/",
     "height": 299
    },
    "executionInfo": {
     "elapsed": 766,
     "status": "ok",
     "timestamp": 1678206757970,
     "user": {
      "displayName": "hager saleh",
      "userId": "04961961339784377923"
     },
     "user_tz": -120
    },
    "id": "6e78e180",
    "outputId": "8907e623-741b-494b-a3cf-fed15fec2d68"
   },
   "outputs": [
    {
     "data": {
      "text/html": [
       "<div>\n",
       "<style scoped>\n",
       "    .dataframe tbody tr th:only-of-type {\n",
       "        vertical-align: middle;\n",
       "    }\n",
       "\n",
       "    .dataframe tbody tr th {\n",
       "        vertical-align: top;\n",
       "    }\n",
       "\n",
       "    .dataframe thead th {\n",
       "        text-align: right;\n",
       "    }\n",
       "</style>\n",
       "<table border=\"1\" class=\"dataframe\">\n",
       "  <thead>\n",
       "    <tr style=\"text-align: right;\">\n",
       "      <th></th>\n",
       "      <th>Biopsy</th>\n",
       "      <th>Smokes</th>\n",
       "      <th>HC</th>\n",
       "      <th>IUD</th>\n",
       "      <th>STDs</th>\n",
       "      <th>Dx:CIN</th>\n",
       "      <th>Dx</th>\n",
       "      <th>Hinselmann</th>\n",
       "      <th>Schiller</th>\n",
       "      <th>Citology</th>\n",
       "      <th>Age</th>\n",
       "      <th>NSP</th>\n",
       "      <th>FSI</th>\n",
       "      <th>NPRE</th>\n",
       "      <th>SY</th>\n",
       "      <th>SmokesPY</th>\n",
       "    </tr>\n",
       "  </thead>\n",
       "  <tbody>\n",
       "    <tr>\n",
       "      <th>0</th>\n",
       "      <td>0</td>\n",
       "      <td>0</td>\n",
       "      <td>1</td>\n",
       "      <td>0</td>\n",
       "      <td>0</td>\n",
       "      <td>0</td>\n",
       "      <td>0</td>\n",
       "      <td>0</td>\n",
       "      <td>0</td>\n",
       "      <td>0</td>\n",
       "      <td>0.042254</td>\n",
       "      <td>0.037037</td>\n",
       "      <td>0.181818</td>\n",
       "      <td>0.181818</td>\n",
       "      <td>0.0</td>\n",
       "      <td>0.0</td>\n",
       "    </tr>\n",
       "    <tr>\n",
       "      <th>1</th>\n",
       "      <td>1</td>\n",
       "      <td>0</td>\n",
       "      <td>0</td>\n",
       "      <td>0</td>\n",
       "      <td>0</td>\n",
       "      <td>0</td>\n",
       "      <td>0</td>\n",
       "      <td>1</td>\n",
       "      <td>1</td>\n",
       "      <td>1</td>\n",
       "      <td>0.272095</td>\n",
       "      <td>0.074074</td>\n",
       "      <td>0.359766</td>\n",
       "      <td>0.181818</td>\n",
       "      <td>0.0</td>\n",
       "      <td>0.0</td>\n",
       "    </tr>\n",
       "    <tr>\n",
       "      <th>2</th>\n",
       "      <td>1</td>\n",
       "      <td>0</td>\n",
       "      <td>0</td>\n",
       "      <td>1</td>\n",
       "      <td>0</td>\n",
       "      <td>0</td>\n",
       "      <td>0</td>\n",
       "      <td>0</td>\n",
       "      <td>1</td>\n",
       "      <td>0</td>\n",
       "      <td>0.501376</td>\n",
       "      <td>0.100043</td>\n",
       "      <td>0.293102</td>\n",
       "      <td>0.377220</td>\n",
       "      <td>0.0</td>\n",
       "      <td>0.0</td>\n",
       "    </tr>\n",
       "    <tr>\n",
       "      <th>3</th>\n",
       "      <td>0</td>\n",
       "      <td>0</td>\n",
       "      <td>0</td>\n",
       "      <td>0</td>\n",
       "      <td>0</td>\n",
       "      <td>0</td>\n",
       "      <td>0</td>\n",
       "      <td>0</td>\n",
       "      <td>0</td>\n",
       "      <td>0</td>\n",
       "      <td>0.070423</td>\n",
       "      <td>0.000000</td>\n",
       "      <td>0.227273</td>\n",
       "      <td>0.090909</td>\n",
       "      <td>0.0</td>\n",
       "      <td>0.0</td>\n",
       "    </tr>\n",
       "    <tr>\n",
       "      <th>4</th>\n",
       "      <td>1</td>\n",
       "      <td>0</td>\n",
       "      <td>1</td>\n",
       "      <td>0</td>\n",
       "      <td>1</td>\n",
       "      <td>0</td>\n",
       "      <td>0</td>\n",
       "      <td>0</td>\n",
       "      <td>1</td>\n",
       "      <td>0</td>\n",
       "      <td>0.188762</td>\n",
       "      <td>0.022241</td>\n",
       "      <td>0.481724</td>\n",
       "      <td>0.145502</td>\n",
       "      <td>0.0</td>\n",
       "      <td>0.0</td>\n",
       "    </tr>\n",
       "  </tbody>\n",
       "</table>\n",
       "</div>"
      ],
      "text/plain": [
       "   Biopsy  Smokes  HC  IUD  STDs  Dx:CIN  Dx  Hinselmann  Schiller  Citology  \\\n",
       "0       0       0   1    0     0       0   0           0         0         0   \n",
       "1       1       0   0    0     0       0   0           1         1         1   \n",
       "2       1       0   0    1     0       0   0           0         1         0   \n",
       "3       0       0   0    0     0       0   0           0         0         0   \n",
       "4       1       0   1    0     1       0   0           0         1         0   \n",
       "\n",
       "        Age       NSP       FSI      NPRE   SY  SmokesPY  \n",
       "0  0.042254  0.037037  0.181818  0.181818  0.0       0.0  \n",
       "1  0.272095  0.074074  0.359766  0.181818  0.0       0.0  \n",
       "2  0.501376  0.100043  0.293102  0.377220  0.0       0.0  \n",
       "3  0.070423  0.000000  0.227273  0.090909  0.0       0.0  \n",
       "4  0.188762  0.022241  0.481724  0.145502  0.0       0.0  "
      ]
     },
     "execution_count": 30,
     "metadata": {},
     "output_type": "execute_result"
    }
   ],
   "source": [
    "train= pd.read_csv(\"train_datasetset.csv\")\n",
    "train=train[list]\n",
    "train.head()"
   ]
  },
  {
   "cell_type": "code",
   "execution_count": 31,
   "id": "75ee8251",
   "metadata": {},
   "outputs": [],
   "source": [
    "train=train.fillna(0)\n",
    "X_train=train.drop(['Biopsy'],axis = 1 )\n",
    "y_train=train['Biopsy']"
   ]
  },
  {
   "cell_type": "code",
   "execution_count": 32,
   "id": "9949a347",
   "metadata": {},
   "outputs": [],
   "source": [
    "test= pd.read_csv(\"unseen_dataset.csv\")\n",
    "test=test[list]\n",
    "y_test=test['Biopsy']\n",
    "X_test=test.drop(['Biopsy'],axis = 1 )"
   ]
  },
  {
   "cell_type": "code",
   "execution_count": 33,
   "id": "96a6fd1e",
   "metadata": {
    "id": "96a6fd1e"
   },
   "outputs": [],
   "source": [
    "\n",
    "model_params = {\n",
    "    \n",
    "    'RF': {\n",
    "        'model': RandomForestClassifier(),\n",
    "        'params' : {\n",
    "            'max_depth' : [10,20,30],\n",
    "\n",
    "        }\n",
    "    },\n",
    "    'LR' : {\n",
    "        'model': LogisticRegression(),\n",
    "        'params': {\n",
    "            \"solver\" : ['newton-cg','lbfgs','liblinear','sag','saga']\n",
    "\n",
    "                     \n",
    "        }}\n",
    "    ,\n",
    "    'DT': {\n",
    "        'model': DecisionTreeClassifier(),\n",
    "        'params': {\n",
    "       \n",
    "            'max_depth' : [1,2,3,4,5,6,7]\n",
    "        }\n",
    "        \n",
    "    }  \n",
    "    ,\n",
    "   \n",
    " 'SVM': {\n",
    "     'model': SVC(probability=True),\n",
    "    'params':  {\n",
    "                'kernel': ['linear','rbf','poly',]\n",
    "    }},\n",
    "\n",
    "    \n",
    "  'NB': {\n",
    "     'model': GaussianNB(),\n",
    "    'params':  {\n",
    "      'var_smoothing': np.logspace(0,-9, num=100)\n",
    "    }\n",
    " },\n",
    "    \n",
    "    'AdaBoost': {\n",
    "     'model': AdaBoostClassifier(),\n",
    "      \"params\" :{\n",
    "   \n",
    "    'n_estimators': [10, 50]}\n",
    "   } \n",
    "  \n",
    "      \n",
    "    \n",
    "   } \n",
    "\n",
    "   "
   ]
  },
  {
   "cell_type": "code",
   "execution_count": 34,
   "id": "e80d1d9e",
   "metadata": {
    "colab": {
     "base_uri": "https://localhost:8080/"
    },
    "executionInfo": {
     "elapsed": 234,
     "status": "ok",
     "timestamp": 1678206828917,
     "user": {
      "displayName": "hager saleh",
      "userId": "04961961339784377923"
     },
     "user_tz": -120
    },
    "id": "e80d1d9e",
    "outputId": "f6b111a5-1113-4966-fc53-b293ddbd2b2b"
   },
   "outputs": [
    {
     "name": "stdout",
     "output_type": "stream",
     "text": [
      "RF\n",
      "LR\n",
      "DT\n",
      "SVM\n",
      "NB\n",
      "AdaBoost\n"
     ]
    }
   ],
   "source": [
    "for model_name, mp in model_params.items():\n",
    "    print(model_name)"
   ]
  },
  {
   "cell_type": "code",
   "execution_count": 35,
   "id": "32d13a01",
   "metadata": {},
   "outputs": [],
   "source": [
    "scoring = {'accuracy' : make_scorer(accuracy_score), \n",
    "           'precision' : make_scorer(precision_score, average='weighted'),\n",
    "           'recall' : make_scorer(recall_score, average='weighted'), \n",
    "           'f1' : make_scorer(f1_score, average='weighted')}\n"
   ]
  },
  {
   "cell_type": "code",
   "execution_count": null,
   "id": "21465629",
   "metadata": {
    "colab": {
     "base_uri": "https://localhost:8080/",
     "height": 1000
    },
    "executionInfo": {
     "elapsed": 1289361,
     "status": "ok",
     "timestamp": 1678208127745,
     "user": {
      "displayName": "hager saleh",
      "userId": "04961961339784377923"
     },
     "user_tz": -120
    },
    "id": "21465629",
    "outputId": "0858a4f6-c35e-48ef-a173-d78c37352626",
    "scrolled": true
   },
   "outputs": [],
   "source": [
    "import warnings\n",
    "warnings.filterwarnings('ignore')\n",
    "scores = []\n",
    "model={}\n",
    "for model_name, mp in model_params.items():\n",
    "    clf =  GridSearchCV(mp['model'], mp['params'], cv=10, scoring =make_scorer(f1_score, average='weighted'),return_train_score=False)\n",
    "    clf.fit(X_train, y_train)\n",
    "    scores.append({\n",
    "        'model': model_name,\n",
    "        'best_score': clf.best_score_,\n",
    "        'best_params': clf.best_params_\n",
    "    })\n",
    "   \n",
    "    model[model_name]=clf.best_estimator_\n",
    "df = pd.DataFrame(scores,columns=['model','best_score','best_params'])\n",
    "df"
   ]
  },
  {
   "cell_type": "code",
   "execution_count": null,
   "id": "2515eb8f",
   "metadata": {},
   "outputs": [],
   "source": [
    "clf = [('RF', model['RF']),('LR', model['LR']), ('DT', model['DT']), ('SVM', model['SVM'])] \n",
    "stack_model = StackingClassifier( estimators = clf,final_estimator =model['LR'])\n",
    "stacking = stack_model.fit(X_train,y_train)"
   ]
  },
  {
   "cell_type": "code",
   "execution_count": null,
   "id": "3d00fae5",
   "metadata": {},
   "outputs": [],
   "source": [
    "def evaluate_models(models, X_train, X_val, y_train, y_val):\n",
    " \n",
    "    scores = list()\n",
    "    for name, model in models:\n",
    "\n",
    "        yhat = model.predict(X_val)\n",
    "        acc = accuracy_score(y_val, yhat)\n",
    "        \n",
    "        scores.append(acc)\n",
    "        # report model performance\n",
    "    return scores\n",
    " "
   ]
  },
  {
   "cell_type": "code",
   "execution_count": null,
   "id": "8583be9a",
   "metadata": {},
   "outputs": [],
   "source": [
    "Voting = [('LR', model['LR']), ('DT', model['DT']), ('SVM', model['SVM']), \n",
    "  ('NB', model['NB'])] \n",
    "\n"
   ]
  },
  {
   "cell_type": "code",
   "execution_count": null,
   "id": "45dee01b",
   "metadata": {},
   "outputs": [],
   "source": [
    "from sklearn.ensemble import VotingClassifier\n",
    "Voting_soft = VotingClassifier(estimators=clf, voting='soft')\n",
    "Voting_soft.fit(X_train, y_train)"
   ]
  },
  {
   "cell_type": "code",
   "execution_count": null,
   "id": "533c2ef0",
   "metadata": {},
   "outputs": [],
   "source": [
    "from sklearn.ensemble import BaggingClassifier\n",
    "Bagging = BaggingClassifier(DecisionTreeClassifier(), n_estimators=2)\n",
    "Bagging1 = Bagging.fit(X_train, y_train)"
   ]
  },
  {
   "cell_type": "code",
   "execution_count": null,
   "id": "063bad0c",
   "metadata": {},
   "outputs": [],
   "source": [
    "model.update({'Bagging':Bagging1})\n",
    "model.update({'Voting':Voting_soft} )\n",
    "model.update({'Stacking':stacking} )\n"
   ]
  },
  {
   "cell_type": "code",
   "execution_count": null,
   "id": "d0d9681c",
   "metadata": {
    "colab": {
     "base_uri": "https://localhost:8080/"
    },
    "executionInfo": {
     "elapsed": 6644,
     "status": "ok",
     "timestamp": 1678208134382,
     "user": {
      "displayName": "hager saleh",
      "userId": "04961961339784377923"
     },
     "user_tz": -120
    },
    "id": "d0d9681c",
    "outputId": "3d803d06-664b-4c6d-cea5-e58fea156975"
   },
   "outputs": [],
   "source": [
    "finaltrain = pd.DataFrame([])\n",
    "finalSTD = pd.DataFrame([])\n",
    "ReultofTest=pd.DataFrame([])\n",
    "\n",
    "\n",
    "for model_name, i in model.items():   \n",
    "    Model=i\n",
    "    AccuracyTrain=[]\n",
    "    PrecisionTrain=[]\n",
    "    RecallTrain=[]\n",
    "    F1Train=[]\n",
    "    Roc_auc_Train=[]\n",
    "    AccuracyTest=[]\n",
    "    PrecisionTest=[]\n",
    "    RecallTest=[]\n",
    "    F1Test=[]\n",
    "    Roc_auc_Test=[]\n",
    "    AccuracyTrain=[]\n",
    "    \n",
    "    SDAccuracyTrain=[]\n",
    "    SDPrecisionTrain=[]\n",
    "    SDReacllTrain=[]\n",
    "    SDF1Train=[]\n",
    "    \n",
    "    \n",
    "    AccuracyTest=[]\n",
    "    PrecisionTest=[]\n",
    "    RecallTest=[]\n",
    "    F1Test=[]\n",
    "    \n",
    "    for i in range(0,1):\n",
    "        if i==0:\n",
    "            r=70\n",
    "        elif i== 1:\n",
    "            r=80\n",
    "        elif i== 2:\n",
    "            r=90\n",
    "\n",
    "        SFold = StratifiedKFold(n_splits=10,  shuffle=True,random_state=r)\n",
    "        Train_Score = cross_validate(Model, X_train, y_train, scoring=scoring,  cv=SFold)\n",
    "        AccuracyTrain.append(round(100*np.mean(Train_Score['test_accuracy']), 2))\n",
    "        PrecisionTrain.append(round(100*np.mean(Train_Score['test_precision']), 2))\n",
    "        RecallTrain.append(round(100*np.mean(Train_Score['test_recall']), 2))\n",
    "        F1Train.append(round(100*np.mean(Train_Score['test_f1']), 2))\n",
    "       \n",
    "\n",
    "        \n",
    "       \n",
    "        SDAccuracyTrain.append(round(100*np.std(Train_Score['test_accuracy']), 2))\n",
    "        \n",
    "        SDPrecisionTrain.append(round(100*np.std(Train_Score['test_precision']), 2))\n",
    "        \n",
    "        SDReacllTrain.append(round(100*np.std(Train_Score['test_recall']), 2))\n",
    "       \n",
    "        SDF1Train.append(round(100*np.std(Train_Score['test_f1']), 2))\n",
    "        \n",
    "        \n",
    "        y_pred = Model.predict(X_test)\n",
    "             \n",
    "        Accurcy_Test= accuracy_score(y_test,y_pred)\n",
    "        Precision_Test=precision_score(y_test, y_pred, average='weighted')\n",
    "        Recall_Test=recall_score(y_test, y_pred, average='weighted')\n",
    "        F1_Test=f1_score(y_test, y_pred, average='weighted') \n",
    "        \n",
    "        \n",
    "        AT= str(round(np.mean(AccuracyTrain),2))\n",
    "        SDATrain=str(round(np.mean(SDAccuracyTrain),2))\n",
    "        Accuracy_SD=AT +\"±\" +SDATrain\n",
    "        Accuracy_SD\n",
    "        PT= str(round(np.mean(PrecisionTrain),2))\n",
    "        SDPTrain=str(round(np.mean(SDPrecisionTrain),2))\n",
    "        PrecisionTrain_SD=PT +\"±\" +SDPTrain\n",
    "        \n",
    "        \n",
    "        RT= str(round(np.mean(RecallTrain),2))\n",
    "        SDReacllTrain1=str(round(np.mean(SDReacllTrain),2))\n",
    "        RecallTrain_SD=RT +\"±\" +SDReacllTrain1\n",
    "       \n",
    "        \n",
    "        FT= str(round(np.mean(F1Train),2))\n",
    "        SDFTrain=str(round(np.mean( SDF1Train),2))\n",
    "        FTrain_SD=FT +\"±\" +SDFTrain\n",
    "        \n",
    "        AccuracyTest.append(round(100*Accurcy_Test, 2))\n",
    "        PrecisionTest.append(round(100*Precision_Test, 2))\n",
    "        RecallTest.append(round(100*Recall_Test, 2))\n",
    "        F1Test.append(round(100*F1_Test, 2)) \n",
    "       \n",
    "      \n",
    "        finaltrain = finaltrain._append({ 'model':model_name,\n",
    "                                        'AccuracyTrain' : round(np.mean(AccuracyTrain),2),\n",
    "                                        'PrecisionTrain':round(np.mean(PrecisionTrain),2),\n",
    "                                        'RecallTrain':round(np.mean(RecallTrain),2),  \n",
    "                                        'F1Train':round(np.mean(F1Train),2),\n",
    "                                      \n",
    "                                       } , ignore_index=True)\n",
    "        finaltrain.reindex(['model','AccuracyTrain','PrecisionTrain','RecallTrain','F1Train'], axis=1)\n",
    "        \n",
    "       \n",
    "     \n",
    " \n",
    "        finalSTD = finalSTD._append({ 'model':model_name,\n",
    "                                        'AccuracyTrain' : Accuracy_SD,\n",
    "                                        'PrecisionTrain':PrecisionTrain_SD,\n",
    "                                        'RecallTrain':RecallTrain_SD,  \n",
    "                                        'F1Train':FTrain_SD,\n",
    "                                       \n",
    "                                       } , ignore_index=True)\n",
    "        \n",
    "        finalSTD.reindex(['model','AccuracyTrain','PrecisionTrain','RecallTrain','F1Train'], axis=1)\n",
    "    \n",
    "        ReultofTest=ReultofTest._append({'model':model_name,\n",
    "                                        'AccuracyTest' : round(np.mean(AccuracyTest),2),\n",
    "                                        'PrecisionTest':round(np.mean(PrecisionTest),2),\n",
    "                                        'RecallTest' : round(np.mean(RecallTest),2),'F1Test':round(np.mean(F1Test),2),\n",
    "                                  \n",
    "                                       }, ignore_index=True)\n",
    "        ReultofTest.reindex(['model','AccuracyTest','PrecisionTest','RecallTest','F1Test'],axis=1)\n",
    "       "
   ]
  },
  {
   "cell_type": "markdown",
   "id": "e0194c70",
   "metadata": {},
   "source": [
    "# Result of training"
   ]
  },
  {
   "cell_type": "code",
   "execution_count": null,
   "id": "322ad675",
   "metadata": {},
   "outputs": [],
   "source": [
    "finalSTD"
   ]
  },
  {
   "cell_type": "markdown",
   "id": "f3d9fd31",
   "metadata": {},
   "source": [
    "# Result of testing"
   ]
  },
  {
   "cell_type": "code",
   "execution_count": null,
   "id": "9f061b83",
   "metadata": {
    "colab": {
     "base_uri": "https://localhost:8080/"
    },
    "executionInfo": {
     "elapsed": 31,
     "status": "ok",
     "timestamp": 1678208134384,
     "user": {
      "displayName": "hager saleh",
      "userId": "04961961339784377923"
     },
     "user_tz": -120
    },
    "id": "9f061b83",
    "outputId": "fed80fad-a5c4-4258-905f-908aff30db25"
   },
   "outputs": [],
   "source": [
    "h=ReultofTest.iloc[:, 1::]\n",
    "from IPython.display import HTML\n",
    "\n",
    "HTML(h.to_html(index=False))"
   ]
  },
  {
   "cell_type": "code",
   "execution_count": null,
   "id": "a7d1218e",
   "metadata": {},
   "outputs": [],
   "source": [
    "classifiers = {'RF': model['XGB'],'LR': model['LR'], 'DT': model['DT'], \n",
    "               'SVM': model['SVM'],   'NB': model['NB'], \n",
    "               \n",
    "               'Voting': model['Voting'],\n",
    "               'Bagging': model['Bagging'],\n",
    "               'AdaBoost': model['AdaBoost'],\n",
    "               'Stacking': model['Stacking']}\n",
    "\n",
    "# Define a result table as a DataFrame\n",
    "result_table = pd.DataFrame(columns=['classifiers', 'fpr','tpr','auc'])\n",
    "\n",
    "# Train the models and record the results\n",
    "for k,v in classifiers.items():\n",
    "   \n",
    "\n",
    "    \n",
    "    predicted = v.predict(X_test)\n",
    "\n",
    "    #predicted = np.argmax(predicted_proba, axis = 1)\n",
    "    fpr, tpr, _ = roc_curve(y_test,  predicted)\n",
    "    auc = round(roc_auc_score(y_test, predicted),5)*100\n",
    "    \n",
    "    result_table = result_table._append({'classifiers':k,\n",
    "                                        'fpr':fpr, \n",
    "                                        'tpr':tpr, \n",
    "                                        'auc':auc}, ignore_index=True)\n",
    "\n",
    "# Set name of the classifiers as index labels\n",
    "result_table.set_index('classifiers', inplace=True)\n"
   ]
  },
  {
   "cell_type": "code",
   "execution_count": null,
   "id": "1102ed14",
   "metadata": {},
   "outputs": [],
   "source": [
    "fig = plt.figure(figsize=(8,6))\n",
    "\n",
    "for i in result_table.index:\n",
    "    plt.plot(result_table.loc[i]['fpr'], \n",
    "             result_table.loc[i]['tpr'], \n",
    "             label=\"{}, AUC={:.3f}\".format(i, result_table.loc[i]['auc']))\n",
    "    \n",
    "plt.plot([0,1], [0,1], color='orange', linestyle='--')\n",
    "\n",
    "plt.xticks(np.arange(0.0, 1.1, step=0.1))\n",
    "plt.xlabel(\"Flase Positive Rate\", fontsize=15)\n",
    "\n",
    "plt.yticks(np.arange(0.0, 1.1, step=0.1))\n",
    "plt.ylabel(\"True Positive Rate\", fontsize=15)\n",
    "\n",
    "plt.title('ROC Curve Analysis', fontweight='bold', fontsize=15)\n",
    "plt.legend(prop={'size':13}, loc='lower right')\n",
    "\n",
    "plt.show()"
   ]
  },
  {
   "cell_type": "code",
   "execution_count": null,
   "id": "1d8dda99",
   "metadata": {},
   "outputs": [],
   "source": []
  }
 ],
 "metadata": {
  "accelerator": "GPU",
  "colab": {
   "machine_shape": "hm",
   "provenance": []
  },
  "gpuClass": "premium",
  "kernelspec": {
   "display_name": "Python 3 (ipykernel)",
   "language": "python",
   "name": "python3"
  },
  "language_info": {
   "codemirror_mode": {
    "name": "ipython",
    "version": 3
   },
   "file_extension": ".py",
   "mimetype": "text/x-python",
   "name": "python",
   "nbconvert_exporter": "python",
   "pygments_lexer": "ipython3",
   "version": "3.11.4"
  }
 },
 "nbformat": 4,
 "nbformat_minor": 5
}
